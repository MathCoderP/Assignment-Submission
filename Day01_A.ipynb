{
  "nbformat": 4,
  "nbformat_minor": 0,
  "metadata": {
    "colab": {
      "name": "Day01 A.ipynb",
      "provenance": [],
      "authorship_tag": "ABX9TyNecKFKBqbSXrEFCQ6KO9Hl",
      "include_colab_link": true
    },
    "kernelspec": {
      "name": "python3",
      "display_name": "Python 3"
    },
    "language_info": {
      "name": "python"
    }
  },
  "cells": [
    {
      "cell_type": "markdown",
      "metadata": {
        "id": "view-in-github",
        "colab_type": "text"
      },
      "source": [
        "<a href=\"https://colab.research.google.com/github/MathCoderP/Assignment-Submission/blob/main/Day01_A.ipynb\" target=\"_parent\"><img src=\"https://colab.research.google.com/assets/colab-badge.svg\" alt=\"Open In Colab\"/></a>"
      ]
    },
    {
      "cell_type": "markdown",
      "metadata": {
        "id": "9883KHZQwEKQ"
      },
      "source": [
        "**Day 1 assignment**:\n",
        "Take input for a list and Sort a list in descending order."
      ]
    },
    {
      "cell_type": "code",
      "metadata": {
        "colab": {
          "base_uri": "https://localhost:8080/"
        },
        "id": "nmQI27afweFo",
        "outputId": "e5172e6e-d971-4a43-b4c0-41fd90f0d620"
      },
      "source": [
        "li=[1,2,3,4,6,8,9]\n",
        "\n",
        "li.sort(reverse=True)\n",
        "\n",
        "print(li)"
      ],
      "execution_count": 24,
      "outputs": [
        {
          "output_type": "stream",
          "text": [
            "[9, 8, 6, 4, 3, 2, 1]\n"
          ],
          "name": "stdout"
        }
      ]
    },
    {
      "cell_type": "code",
      "metadata": {
        "colab": {
          "base_uri": "https://localhost:8080/"
        },
        "id": "LHkOp1fex-A0",
        "outputId": "050e4c1b-810c-4921-d84f-4a0a43f2195b"
      },
      "source": [
        "real = [0.001, 1.003, 4.751, 2,10001,0.0001]\n",
        "\n",
        "\n",
        "real.sort(reverse = True)\n",
        "\n",
        "print(real)\n",
        "\n",
        "MathCoderP=['Naresh','Rahul', 'Ramniwas', 'Ankit', 'shiv', 'Pavan Gautm']\n",
        "\n",
        "MathCoderP.sort(reverse=True)\n",
        "\n",
        "print(MathCoderP)\n"
      ],
      "execution_count": 23,
      "outputs": [
        {
          "output_type": "stream",
          "text": [
            "[10001, 4.751, 2, 1.003, 0.001, 0.0001]\n",
            "['shiv', 'Ramniwas', 'Rahul', 'Pavan Gautm', 'Naresh', 'Ankit']\n"
          ],
          "name": "stdout"
        }
      ]
    }
  ]
}